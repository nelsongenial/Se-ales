{
 "cells": [
  {
   "cell_type": "code",
   "execution_count": 14,
   "metadata": {},
   "outputs": [],
   "source": [
    "from __future__ import print_function, division\n",
    "\n",
    "%matplotlib inline\n",
    "\n",
    "import thinkdsp\n",
    "import thinkplot\n",
    "\n",
    "import numpy as np\n",
    "\n",
    "from ipywidgets import interact, interactive, fixed\n",
    "import ipywidgets as widgets\n",
    "from IPython.display import display"
   ]
  },
  {
   "cell_type": "code",
   "execution_count": 24,
   "metadata": {},
   "outputs": [],
   "source": []
  },
  {
   "cell_type": "code",
   "execution_count": 25,
   "metadata": {},
   "outputs": [
    {
     "data": {
      "text/html": [
       "\n",
       "                <audio controls=\"controls\" >\n",
       "                    <source src=\"data:audio/wav;base64,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\" type=\"audio/wav\" />\n",
       "                    Your browser does not support the audio element.\n",
       "                </audio>\n",
       "              "
      ],
      "text/plain": [
       "<IPython.lib.display.Audio object>"
      ]
     },
     "execution_count": 25,
     "metadata": {},
     "output_type": "execute_result"
    }
   ],
   "source": []
  },
  {
   "cell_type": "code",
   "execution_count": 28,
   "metadata": {},
   "outputs": [
    {
     "data": {
      "image/png": "[encoded data removed]",
      "text/plain": [
       "<Figure size 432x288 with 1 Axes>"
      ]
     },
     "metadata": {
      "needs_background": "light"
     },
     "output_type": "display_data"
    }
   ],
   "source": []
  },
  {
   "cell_type": "code",
   "execution_count": 29,
   "metadata": {},
   "outputs": [
    {
     "ename": "ValueError",
     "evalue": "Dimension n should be a positive integer not larger than the shape of the array along the chosen axis",
     "output_type": "error",
     "traceback": [
      "\u001b[1;31m---------------------------------------------------------------------------\u001b[0m",
      "\u001b[1;31mValueError\u001b[0m                                Traceback (most recent call last)",
      "\u001b[1;32m<ipython-input-29-93304cd0c403>\u001b[0m in \u001b[0;36m<module>\u001b[1;34m\u001b[0m\n\u001b[1;32m----> 1\u001b[1;33m \u001b[0mspectrum\u001b[0m \u001b[1;33m=\u001b[0m \u001b[0msegment\u001b[0m\u001b[1;33m.\u001b[0m\u001b[0mmake_spectrum\u001b[0m\u001b[1;33m(\u001b[0m\u001b[1;33m)\u001b[0m\u001b[1;33m\u001b[0m\u001b[1;33m\u001b[0m\u001b[0m\n\u001b[0m",
      "\u001b[1;32m~\\Desktop\\ThinkDSP-master\\code\\thinkdsp.py\u001b[0m in \u001b[0;36mmake_spectrum\u001b[1;34m(self, full)\u001b[0m\n\u001b[0;32m    911\u001b[0m             \u001b[0mfs\u001b[0m \u001b[1;33m=\u001b[0m \u001b[0mnp\u001b[0m\u001b[1;33m.\u001b[0m\u001b[0mfft\u001b[0m\u001b[1;33m.\u001b[0m\u001b[0mfftfreq\u001b[0m\u001b[1;33m(\u001b[0m\u001b[0mn\u001b[0m\u001b[1;33m,\u001b[0m \u001b[0md\u001b[0m\u001b[1;33m)\u001b[0m\u001b[1;33m\u001b[0m\u001b[1;33m\u001b[0m\u001b[0m\n\u001b[0;32m    912\u001b[0m         \u001b[1;32melse\u001b[0m\u001b[1;33m:\u001b[0m\u001b[1;33m\u001b[0m\u001b[1;33m\u001b[0m\u001b[0m\n\u001b[1;32m--> 913\u001b[1;33m             \u001b[0mhs\u001b[0m \u001b[1;33m=\u001b[0m \u001b[0mnp\u001b[0m\u001b[1;33m.\u001b[0m\u001b[0mfft\u001b[0m\u001b[1;33m.\u001b[0m\u001b[0mrfft\u001b[0m\u001b[1;33m(\u001b[0m\u001b[0mself\u001b[0m\u001b[1;33m.\u001b[0m\u001b[0mys\u001b[0m\u001b[1;33m)\u001b[0m\u001b[1;33m\u001b[0m\u001b[1;33m\u001b[0m\u001b[0m\n\u001b[0m\u001b[0;32m    914\u001b[0m             \u001b[0mfs\u001b[0m \u001b[1;33m=\u001b[0m \u001b[0mnp\u001b[0m\u001b[1;33m.\u001b[0m\u001b[0mfft\u001b[0m\u001b[1;33m.\u001b[0m\u001b[0mrfftfreq\u001b[0m\u001b[1;33m(\u001b[0m\u001b[0mn\u001b[0m\u001b[1;33m,\u001b[0m \u001b[0md\u001b[0m\u001b[1;33m)\u001b[0m\u001b[1;33m\u001b[0m\u001b[1;33m\u001b[0m\u001b[0m\n\u001b[0;32m    915\u001b[0m \u001b[1;33m\u001b[0m\u001b[0m\n",
      "\u001b[1;32m~\\Anaconda3\\lib\\site-packages\\mkl_fft\\_numpy_fft.py\u001b[0m in \u001b[0;36mrfft\u001b[1;34m(a, n, axis, norm)\u001b[0m\n\u001b[0;32m    329\u001b[0m         \u001b[0ma\u001b[0m \u001b[1;33m=\u001b[0m \u001b[0masarray\u001b[0m\u001b[1;33m(\u001b[0m\u001b[0ma\u001b[0m\u001b[1;33m)\u001b[0m\u001b[1;33m\u001b[0m\u001b[1;33m\u001b[0m\u001b[0m\n\u001b[0;32m    330\u001b[0m         \u001b[0mn\u001b[0m \u001b[1;33m=\u001b[0m \u001b[0ma\u001b[0m\u001b[1;33m.\u001b[0m\u001b[0mshape\u001b[0m\u001b[1;33m[\u001b[0m\u001b[0maxis\u001b[0m\u001b[1;33m]\u001b[0m\u001b[1;33m\u001b[0m\u001b[1;33m\u001b[0m\u001b[0m\n\u001b[1;32m--> 331\u001b[1;33m     \u001b[0moutput\u001b[0m \u001b[1;33m=\u001b[0m \u001b[0mmkl_fft\u001b[0m\u001b[1;33m.\u001b[0m\u001b[0mrfft_numpy\u001b[0m\u001b[1;33m(\u001b[0m\u001b[0ma\u001b[0m\u001b[1;33m,\u001b[0m \u001b[0mn\u001b[0m\u001b[1;33m=\u001b[0m\u001b[0mn\u001b[0m\u001b[1;33m,\u001b[0m \u001b[0maxis\u001b[0m\u001b[1;33m=\u001b[0m\u001b[0maxis\u001b[0m\u001b[1;33m)\u001b[0m\u001b[1;33m\u001b[0m\u001b[1;33m\u001b[0m\u001b[0m\n\u001b[0m\u001b[0;32m    332\u001b[0m     \u001b[1;32mif\u001b[0m \u001b[0munitary\u001b[0m\u001b[1;33m:\u001b[0m\u001b[1;33m\u001b[0m\u001b[1;33m\u001b[0m\u001b[0m\n\u001b[0;32m    333\u001b[0m         \u001b[0moutput\u001b[0m \u001b[1;33m*=\u001b[0m \u001b[1;36m1\u001b[0m \u001b[1;33m/\u001b[0m \u001b[0msqrt\u001b[0m\u001b[1;33m(\u001b[0m\u001b[0mn\u001b[0m\u001b[1;33m)\u001b[0m\u001b[1;33m\u001b[0m\u001b[1;33m\u001b[0m\u001b[0m\n",
      "\u001b[1;32mmkl_fft\\_pydfti.pyx\u001b[0m in \u001b[0;36mmkl_fft._pydfti.rfft_numpy\u001b[1;34m()\u001b[0m\n",
      "\u001b[1;32mmkl_fft\\_pydfti.pyx\u001b[0m in \u001b[0;36mmkl_fft._pydfti._rc_fft1d_impl\u001b[1;34m()\u001b[0m\n",
      "\u001b[1;32mmkl_fft\\_pydfti.pyx\u001b[0m in \u001b[0;36mmkl_fft._pydfti.__process_arguments\u001b[1;34m()\u001b[0m\n",
      "\u001b[1;31mValueError\u001b[0m: Dimension n should be a positive integer not larger than the shape of the array along the chosen axis"
     ]
    }
   ],
   "source": []
  },
  {
   "cell_type": "code",
   "execution_count": null,
   "metadata": {},
   "outputs": [],
   "source": []
  },
  {
   "cell_type": "code",
   "execution_count": null,
   "metadata": {},
   "outputs": [],
   "source": []
  },
  {
   "cell_type": "code",
   "execution_count": null,
   "metadata": {},
   "outputs": [],
   "source": []
  },
  {
   "cell_type": "code",
   "execution_count": null,
   "metadata": {},
   "outputs": [],
   "source": []
  },
  {
   "cell_type": "code",
   "execution_count": null,
   "metadata": {},
   "outputs": [],
   "source": []
  }
 ],
 "metadata": {
  "kernelspec": {
   "display_name": "Python 3",
   "language": "python",
   "name": "python3"
  },
  "language_info": {
   "codemirror_mode": {
    "name": "ipython",
    "version": 3
   },
   "file_extension": ".py",
   "mimetype": "text/x-python",
   "name": "python",
   "nbconvert_exporter": "python",
   "pygments_lexer": "ipython3",
   "version": "3.7.1"
  }
 },
 "nbformat": 4,
 "nbformat_minor": 2
}
