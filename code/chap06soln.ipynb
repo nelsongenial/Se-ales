{
 "cells": [
  {
   "cell_type": "markdown",
   "metadata": {},
   "source": [
    "##ThinkDSP\n",
    "\n",
    "This notebook contains solutions to exercises in Chapter 6: Discrete Cosine Transform\n",
    "\n",
    "Copyright 2015 Allen Downey\n",
    "\n",
    "License: [Creative Commons Attribution 4.0 International](http://creativecommons.org/licenses/by/4.0/)"
   ]
  },
  {
   "cell_type": "code",
   "execution_count": 1,
   "metadata": {},
   "outputs": [],
   "source": [
    "from __future__ import print_function, division\n",
    "\n",
    "import thinkdsp\n",
    "import thinkplot\n",
    "import thinkstats2\n",
    "\n",
    "import numpy as np\n",
    "import scipy.fftpack\n",
    "\n",
    "import warnings\n",
    "warnings.filterwarnings('ignore')\n",
    "\n",
    "import dct\n",
    "\n",
    "%matplotlib inline"
   ]
  },
  {
   "cell_type": "markdown",
   "metadata": {},
   "source": [
    "**Exercise:** In this chapter I claim that `analyze1` takes time proportional\n",
    "to $n^3$ and `analyze2` takes time proportional to $n^2$.  To\n",
    "see if that's true, run them on a range of input sizes and time\n",
    "them.  In IPython, you can use the magic command `%timeit`.\n",
    "\n",
    "If you plot run time versus input size on a log-log scale, you\n",
    "should get a straight line with slope 3 for  `analyze1` and\n",
    "slope 2 for `analyze2`.  You also might want to test `dct_iv`\n",
    "and `scipy.fftpack.dct`.\n",
    "\n",
    "I'll start with a noise signal and an array of power-of-two sizes"
   ]
  },
  {
   "cell_type": "code",
   "execution_count": 2,
   "metadata": {},
   "outputs": [
    {
     "data": {
      "text/plain": [
       "(16384,)"
      ]
     },
     "execution_count": 2,
     "metadata": {},
     "output_type": "execute_result"
    }
   ],
   "source": [
    "signal = thinkdsp.UncorrelatedGaussianNoise()\n",
    "noise = signal.make_wave(duration=1.0, framerate=16384)\n",
    "noise.ys.shape"
   ]
  },
  {
   "cell_type": "code",
   "execution_count": 3,
   "metadata": {},
   "outputs": [
    {
     "data": {
      "text/plain": [
       "array([   64,   128,   256,   512,  1024,  2048,  4096,  8192, 16384],\n",
       "      dtype=int32)"
      ]
     },
     "execution_count": 3,
     "metadata": {},
     "output_type": "execute_result"
    }
   ],
   "source": [
    "ns = 2 ** np.arange(6, 15)\n",
    "ns"
   ]
  },
  {
   "cell_type": "markdown",
   "metadata": {},
   "source": [
    "The following function takes an array of results from a timing experiment, plots the results, and fits a straight line."
   ]
  },
  {
   "cell_type": "code",
   "execution_count": 4,
   "metadata": {},
   "outputs": [],
   "source": [
    "def plot_bests(bests):    \n",
    "    thinkplot.plot(ns, bests)\n",
    "    thinkplot.config(xscale='log', yscale='log', legend=False)\n",
    "    \n",
    "    x = np.log(ns)\n",
    "    y = np.log(bests)\n",
    "    t = scipy.stats.linregress(x,y)\n",
    "    slope = t[0]\n",
    "\n",
    "    return slope"
   ]
  },
  {
   "cell_type": "markdown",
   "metadata": {
    "collapsed": true
   },
   "source": [
    "Here are the results for `analyze1`."
   ]
  },
  {
   "cell_type": "code",
   "execution_count": null,
   "metadata": {},
   "outputs": [
    {
     "name": "stdout",
     "output_type": "stream",
     "text": [
      "64\n",
      "9.49 ms ± 0 ns per loop (mean ± std. dev. of 1 run, 1 loop each)\n",
      "128\n",
      "202 µs ± 0 ns per loop (mean ± std. dev. of 1 run, 1000 loops each)\n",
      "256\n",
      "1.16 ms ± 0 ns per loop (mean ± std. dev. of 1 run, 1000 loops each)\n",
      "512\n",
      "7.03 ms ± 0 ns per loop (mean ± std. dev. of 1 run, 100 loops each)\n",
      "1024\n",
      "50.5 ms ± 0 ns per loop (mean ± std. dev. of 1 run, 10 loops each)\n",
      "2048\n",
      "454 ms ± 0 ns per loop (mean ± std. dev. of 1 run, 1 loop each)\n",
      "4096\n",
      "1.08 s ± 0 ns per loop (mean ± std. dev. of 1 run, 1 loop each)\n",
      "8192\n",
      "9.12 s ± 0 ns per loop (mean ± std. dev. of 1 run, 1 loop each)\n",
      "16384\n"
     ]
    }
   ],
   "source": [
    "results = []\n",
    "for N in ns:\n",
    "    print(N)\n",
    "    ts = (0.5 + np.arange(N)) / N\n",
    "    freqs = (0.5 + np.arange(N)) / 2\n",
    "    ys = noise.ys[:N]\n",
    "    result = %timeit -r1 -o dct.analyze1(ys, freqs, ts)\n",
    "    results.append(result)\n",
    "\n",
    "bests = [result.best for result in results]\n",
    "plot_bests(bests)"
   ]
  },
  {
   "cell_type": "markdown",
   "metadata": {
    "collapsed": true
   },
   "source": [
    "The estimated slope is close to 2, not 3, as expected.  One possibility is that the performance of `np.linalg.solve` is nearly quadratic in this range of array sizes.\n",
    "\n",
    "The line is curved, which suggests that we have not reached the array size where the runtime shows cubic growth.  With larger array sizes, the estimated slope increases, so maybe it eventually converges on 3.\n",
    "\n",
    "Here are the results for `analyze2`:"
   ]
  },
  {
   "cell_type": "code",
   "execution_count": null,
   "metadata": {},
   "outputs": [],
   "source": [
    "results = []\n",
    "for N in ns:\n",
    "    ts = (0.5 + np.arange(N)) / N\n",
    "    freqs = (0.5 + np.arange(N)) / 2\n",
    "    ys = noise.ys[:N]\n",
    "    result = %timeit -r1 -o dct.analyze2(ys, freqs, ts)\n",
    "    results.append(result)\n",
    "\n",
    "bests2 = [result.best for result in results]\n",
    "plot_bests(bests2)"
   ]
  },
  {
   "cell_type": "markdown",
   "metadata": {
    "collapsed": true
   },
   "source": [
    "The results for `analyze2` fall in a straight line with the estimated slope close to 2, as expected.\n",
    "\n",
    "Here are the results for the `scipy.fftpack.dct`"
   ]
  },
  {
   "cell_type": "code",
   "execution_count": null,
   "metadata": {},
   "outputs": [],
   "source": [
    "results = []\n",
    "for N in ns:\n",
    "    ys = noise.ys[:N]\n",
    "    result = %timeit -o scipy.fftpack.dct(ys, type=3)\n",
    "    results.append(result)\n",
    "\n",
    "bests3 = [result.best for result in results]\n",
    "plot_bests(bests3)"
   ]
  },
  {
   "cell_type": "markdown",
   "metadata": {
    "collapsed": true
   },
   "source": [
    "This implementation of dct is even faster.  The line is curved, which means either we haven't seen the asymptotic behavior yet, or the asymptotic behavior is not a simple exponent of $n$.  In fact, as we'll see soon, the run time is proportional to $n \\log n$.\n",
    "\n",
    "The following figure shows all three curves on the same axes."
   ]
  },
  {
   "cell_type": "code",
   "execution_count": null,
   "metadata": {},
   "outputs": [],
   "source": [
    "thinkplot.preplot(3)\n",
    "thinkplot.plot(ns, bests, label='analyze1')\n",
    "thinkplot.plot(ns, bests2, label='analyze2')\n",
    "thinkplot.plot(ns, bests3, label='fftpack.dct')\n",
    "thinkplot.config(xscale='log', yscale='log', legend=True, loc='upper left')"
   ]
  },
  {
   "cell_type": "code",
   "execution_count": null,
   "metadata": {},
   "outputs": [],
   "source": []
  },
  {
   "cell_type": "markdown",
   "metadata": {},
   "source": [
    "**Exercise:** One of the major applications of the DCT is compression for both sound and images. In its simplest form, DCT-based compression works like this:\n",
    "\n",
    "1. Break a long signal into segments.\n",
    "2. Compute the DCT of each segment.\n",
    "3. Identify frequency components with amplitudes so low they are inaudible, and remove them. Store only the frequencies and amplitudes that remain.\n",
    "4. To play back the signal, load the frequencies and amplitudes for each segment and apply the inverse DCT.\n",
    "\n",
    "Implement a version of this algorithm and apply it to a recording of music or speech. How many components can you eliminate before the difference is perceptible?"
   ]
  },
  {
   "cell_type": "markdown",
   "metadata": {},
   "source": [
    "`thinkdsp` provides a class, `Dct` that is similar to a `Spectrum`, but which uses DCT instead of FFT."
   ]
  },
  {
   "cell_type": "markdown",
   "metadata": {},
   "source": [
    "As an example, I'll use a recording of a saxophone:"
   ]
  },
  {
   "cell_type": "code",
   "execution_count": null,
   "metadata": {},
   "outputs": [],
   "source": [
    "wave = thinkdsp.read_wave('100475__iluppai__saxophone-weep.wav')\n",
    "wave.make_audio()"
   ]
  },
  {
   "cell_type": "markdown",
   "metadata": {},
   "source": [
    "Here's a short segment:"
   ]
  },
  {
   "cell_type": "code",
   "execution_count": null,
   "metadata": {},
   "outputs": [],
   "source": [
    "segment = wave.segment(start=1.2, duration=0.5)\n",
    "segment.normalize()\n",
    "segment.make_audio()"
   ]
  },
  {
   "cell_type": "markdown",
   "metadata": {},
   "source": [
    "And here's the DCT of that segment:"
   ]
  },
  {
   "cell_type": "code",
   "execution_count": null,
   "metadata": {},
   "outputs": [],
   "source": [
    "seg_dct = segment.make_dct()\n",
    "seg_dct.plot(high=4000)\n",
    "thinkplot.config(xlabel='Frequency (Hz)', ylabel='DCT')"
   ]
  },
  {
   "cell_type": "markdown",
   "metadata": {},
   "source": [
    "There are only a few harmonics with substantial amplitude, and many entries near zero.\n",
    "\n",
    "The following function takes a DCT and sets elements below `thresh` to 0."
   ]
  },
  {
   "cell_type": "code",
   "execution_count": null,
   "metadata": {},
   "outputs": [],
   "source": [
    "def compress(dct, thresh=1):\n",
    "    count = 0\n",
    "    for i, amp in enumerate(dct.amps):\n",
    "        if abs(amp) < thresh:\n",
    "            dct.hs[i] = 0\n",
    "            count += 1\n",
    "            \n",
    "    n = len(dct.amps)\n",
    "    print(count, n, 100 * count / n, sep='\\t')"
   ]
  },
  {
   "cell_type": "markdown",
   "metadata": {},
   "source": [
    "If we apply it to the segment, we can eliminate more than 90% of the elements:"
   ]
  },
  {
   "cell_type": "code",
   "execution_count": null,
   "metadata": {},
   "outputs": [],
   "source": [
    "seg_dct = segment.make_dct()\n",
    "compress(seg_dct, thresh=10)\n",
    "seg_dct.plot(high=4000)"
   ]
  },
  {
   "cell_type": "markdown",
   "metadata": {},
   "source": [
    "And the result sounds the same (at least to me):"
   ]
  },
  {
   "cell_type": "code",
   "execution_count": null,
   "metadata": {},
   "outputs": [],
   "source": [
    "seg2 = seg_dct.make_wave()\n",
    "seg2.make_audio()"
   ]
  },
  {
   "cell_type": "markdown",
   "metadata": {},
   "source": [
    "To compress a longer segment, we can make a DCT spectrogram.  The following function is similar to `wave.make_spectrogram` except that it uses the DCT."
   ]
  },
  {
   "cell_type": "code",
   "execution_count": null,
   "metadata": {},
   "outputs": [],
   "source": [
    "def make_dct_spectrogram(wave, seg_length):\n",
    "    \"\"\"Computes the DCT spectrogram of the wave.\n",
    "\n",
    "    seg_length: number of samples in each segment\n",
    "\n",
    "    returns: Spectrogram\n",
    "    \"\"\"\n",
    "    window = np.hamming(seg_length)\n",
    "    i, j = 0, seg_length\n",
    "    step = seg_length / 2\n",
    "\n",
    "    # map from time to Spectrum\n",
    "    spec_map = {}\n",
    "\n",
    "    while j < len(wave.ys):\n",
    "        segment = wave.slice(i, j)\n",
    "        segment.window(window)\n",
    "\n",
    "        # the nominal time for this segment is the midpoint\n",
    "        t = (segment.start + segment.end) / 2\n",
    "        spec_map[t] = segment.make_dct()\n",
    "\n",
    "        i += step\n",
    "        j += step\n",
    "\n",
    "    return thinkdsp.Spectrogram(spec_map, seg_length)"
   ]
  },
  {
   "cell_type": "markdown",
   "metadata": {},
   "source": [
    "Now we can make a DCT spectrogram and apply `compress` to each segment:"
   ]
  },
  {
   "cell_type": "code",
   "execution_count": null,
   "metadata": {},
   "outputs": [],
   "source": [
    "spectro = make_dct_spectrogram(wave, seg_length=1024)\n",
    "for t, dct in sorted(spectro.spec_map.items()):\n",
    "    compress(dct, thresh=0.2)"
   ]
  },
  {
   "cell_type": "markdown",
   "metadata": {},
   "source": [
    "In most segments, the compression is 75-80%.\n",
    "\n",
    "To hear what it sounds like, we can convert the spectrogram back to a wave and play it."
   ]
  },
  {
   "cell_type": "code",
   "execution_count": null,
   "metadata": {},
   "outputs": [],
   "source": [
    "wave2 = spectro.make_wave()\n",
    "wave2.make_audio()"
   ]
  },
  {
   "cell_type": "markdown",
   "metadata": {},
   "source": [
    "And here's the original again for comparison."
   ]
  },
  {
   "cell_type": "code",
   "execution_count": null,
   "metadata": {},
   "outputs": [],
   "source": [
    "wave.make_audio()"
   ]
  },
  {
   "cell_type": "markdown",
   "metadata": {},
   "source": [
    "As an experiment, you might try increasing `thresh` to see when the effect of compression becomes audible (to you).\n",
    "\n",
    "Also, you might try compressing a signal with some noisy elements, like cymbals."
   ]
  },
  {
   "cell_type": "code",
   "execution_count": null,
   "metadata": {},
   "outputs": [],
   "source": []
  }
 ],
 "metadata": {
  "kernelspec": {
   "display_name": "Python 3",
   "language": "python",
   "name": "python3"
  },
  "language_info": {
   "codemirror_mode": {
    "name": "ipython",
    "version": 3
   },
   "file_extension": ".py",
   "mimetype": "text/x-python",
   "name": "python",
   "nbconvert_exporter": "python",
   "pygments_lexer": "ipython3",
   "version": "3.7.1"
  }
 },
 "nbformat": 4,
 "nbformat_minor": 1
}
